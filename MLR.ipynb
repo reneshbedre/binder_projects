{
 "cells": [
  {
   "cell_type": "code",
   "execution_count": 1,
   "id": "extraordinary-compatibility",
   "metadata": {},
   "outputs": [
    {
     "data": {
      "text/html": [
       "<div>\n",
       "<style scoped>\n",
       "    .dataframe tbody tr th:only-of-type {\n",
       "        vertical-align: middle;\n",
       "    }\n",
       "\n",
       "    .dataframe tbody tr th {\n",
       "        vertical-align: top;\n",
       "    }\n",
       "\n",
       "    .dataframe thead th {\n",
       "        text-align: right;\n",
       "    }\n",
       "</style>\n",
       "<table border=\"1\" class=\"dataframe\">\n",
       "  <thead>\n",
       "    <tr style=\"text-align: right;\">\n",
       "      <th></th>\n",
       "      <th>ntv_rich</th>\n",
       "      <th>area</th>\n",
       "      <th>latitude</th>\n",
       "      <th>dist_mainland</th>\n",
       "    </tr>\n",
       "  </thead>\n",
       "  <tbody>\n",
       "    <tr>\n",
       "      <th>0</th>\n",
       "      <td>1.897627</td>\n",
       "      <td>1.602060</td>\n",
       "      <td>42.99</td>\n",
       "      <td>10.0</td>\n",
       "    </tr>\n",
       "    <tr>\n",
       "      <th>1</th>\n",
       "      <td>1.633468</td>\n",
       "      <td>0.477121</td>\n",
       "      <td>41.25</td>\n",
       "      <td>0.3</td>\n",
       "    </tr>\n",
       "  </tbody>\n",
       "</table>\n",
       "</div>"
      ],
      "text/plain": [
       "   ntv_rich      area  latitude  dist_mainland\n",
       "0  1.897627  1.602060     42.99           10.0\n",
       "1  1.633468  0.477121     41.25            0.3"
      ]
     },
     "execution_count": 1,
     "metadata": {},
     "output_type": "execute_result"
    }
   ],
   "source": [
    "import pandas as pd\n",
    "import numpy as np\n",
    "import statsmodels.api as sm\n",
    "from statsmodels.tools.eval_measures import rmse\n",
    "from bioinfokit.analys import get_data\n",
    "from statsmodels.stats.outliers_influence import variance_inflation_factor \n",
    "\n",
    "\n",
    "# load data\n",
    "df = get_data('plant_richness').data\n",
    "df.head(2)"
   ]
  },
  {
   "cell_type": "code",
   "execution_count": 2,
   "id": "mental-brunswick",
   "metadata": {},
   "outputs": [
    {
     "data": {
      "text/html": [
       "<table class=\"simpletable\">\n",
       "<caption>OLS Regression Results</caption>\n",
       "<tr>\n",
       "  <th>Dep. Variable:</th>        <td>ntv_rich</td>     <th>  R-squared:         </th> <td>   0.915</td>\n",
       "</tr>\n",
       "<tr>\n",
       "  <th>Model:</th>                   <td>OLS</td>       <th>  Adj. R-squared:    </th> <td>   0.901</td>\n",
       "</tr>\n",
       "<tr>\n",
       "  <th>Method:</th>             <td>Least Squares</td>  <th>  F-statistic:       </th> <td>   64.98</td>\n",
       "</tr>\n",
       "<tr>\n",
       "  <th>Date:</th>             <td>Thu, 04 Feb 2021</td> <th>  Prob (F-statistic):</th> <td>7.47e-10</td>\n",
       "</tr>\n",
       "<tr>\n",
       "  <th>Time:</th>                 <td>22:46:37</td>     <th>  Log-Likelihood:    </th> <td>  11.874</td>\n",
       "</tr>\n",
       "<tr>\n",
       "  <th>No. Observations:</th>      <td>    22</td>      <th>  AIC:               </th> <td>  -15.75</td>\n",
       "</tr>\n",
       "<tr>\n",
       "  <th>Df Residuals:</th>          <td>    18</td>      <th>  BIC:               </th> <td>  -11.38</td>\n",
       "</tr>\n",
       "<tr>\n",
       "  <th>Df Model:</th>              <td>     3</td>      <th>                     </th>     <td> </td>   \n",
       "</tr>\n",
       "<tr>\n",
       "  <th>Covariance Type:</th>      <td>nonrobust</td>    <th>                     </th>     <td> </td>   \n",
       "</tr>\n",
       "</table>\n",
       "<table class=\"simpletable\">\n",
       "<tr>\n",
       "        <td></td>           <th>coef</th>     <th>std err</th>      <th>t</th>      <th>P>|t|</th>  <th>[0.025</th>    <th>0.975]</th>  \n",
       "</tr>\n",
       "<tr>\n",
       "  <th>const</th>         <td>    5.1045</td> <td>    0.981</td> <td>    5.201</td> <td> 0.000</td> <td>    3.043</td> <td>    7.166</td>\n",
       "</tr>\n",
       "<tr>\n",
       "  <th>area</th>          <td>    0.3497</td> <td>    0.027</td> <td>   12.828</td> <td> 0.000</td> <td>    0.292</td> <td>    0.407</td>\n",
       "</tr>\n",
       "<tr>\n",
       "  <th>latitude</th>      <td>   -0.0863</td> <td>    0.023</td> <td>   -3.777</td> <td> 0.001</td> <td>   -0.134</td> <td>   -0.038</td>\n",
       "</tr>\n",
       "<tr>\n",
       "  <th>dist_mainland</th> <td>   -0.0047</td> <td>    0.003</td> <td>   -1.732</td> <td> 0.100</td> <td>   -0.010</td> <td>    0.001</td>\n",
       "</tr>\n",
       "</table>\n",
       "<table class=\"simpletable\">\n",
       "<tr>\n",
       "  <th>Omnibus:</th>       <td> 2.723</td> <th>  Durbin-Watson:     </th> <td>   1.651</td>\n",
       "</tr>\n",
       "<tr>\n",
       "  <th>Prob(Omnibus):</th> <td> 0.256</td> <th>  Jarque-Bera (JB):  </th> <td>   1.253</td>\n",
       "</tr>\n",
       "<tr>\n",
       "  <th>Skew:</th>          <td> 0.130</td> <th>  Prob(JB):          </th> <td>   0.534</td>\n",
       "</tr>\n",
       "<tr>\n",
       "  <th>Kurtosis:</th>      <td> 1.860</td> <th>  Cond. No.          </th> <td>1.36e+03</td>\n",
       "</tr>\n",
       "</table><br/><br/>Notes:<br/>[1] Standard Errors assume that the covariance matrix of the errors is correctly specified.<br/>[2] The condition number is large, 1.36e+03. This might indicate that there are<br/>strong multicollinearity or other numerical problems."
      ],
      "text/plain": [
       "<class 'statsmodels.iolib.summary.Summary'>\n",
       "\"\"\"\n",
       "                            OLS Regression Results                            \n",
       "==============================================================================\n",
       "Dep. Variable:               ntv_rich   R-squared:                       0.915\n",
       "Model:                            OLS   Adj. R-squared:                  0.901\n",
       "Method:                 Least Squares   F-statistic:                     64.98\n",
       "Date:                Thu, 04 Feb 2021   Prob (F-statistic):           7.47e-10\n",
       "Time:                        22:46:37   Log-Likelihood:                 11.874\n",
       "No. Observations:                  22   AIC:                            -15.75\n",
       "Df Residuals:                      18   BIC:                            -11.38\n",
       "Df Model:                           3                                         \n",
       "Covariance Type:            nonrobust                                         \n",
       "=================================================================================\n",
       "                    coef    std err          t      P>|t|      [0.025      0.975]\n",
       "---------------------------------------------------------------------------------\n",
       "const             5.1045      0.981      5.201      0.000       3.043       7.166\n",
       "area              0.3497      0.027     12.828      0.000       0.292       0.407\n",
       "latitude         -0.0863      0.023     -3.777      0.001      -0.134      -0.038\n",
       "dist_mainland    -0.0047      0.003     -1.732      0.100      -0.010       0.001\n",
       "==============================================================================\n",
       "Omnibus:                        2.723   Durbin-Watson:                   1.651\n",
       "Prob(Omnibus):                  0.256   Jarque-Bera (JB):                1.253\n",
       "Skew:                           0.130   Prob(JB):                        0.534\n",
       "Kurtosis:                       1.860   Cond. No.                     1.36e+03\n",
       "==============================================================================\n",
       "\n",
       "Notes:\n",
       "[1] Standard Errors assume that the covariance matrix of the errors is correctly specified.\n",
       "[2] The condition number is large, 1.36e+03. This might indicate that there are\n",
       "strong multicollinearity or other numerical problems.\n",
       "\"\"\""
      ]
     },
     "execution_count": 2,
     "metadata": {},
     "output_type": "execute_result"
    }
   ],
   "source": [
    "X = df[['area', 'latitude', 'dist_mainland']]   # independent variables\n",
    "y = df['ntv_rich']   # dependent variables\n",
    "\n",
    "# to get intercept -- this is optional\n",
    "X = sm.add_constant(X)\n",
    "\n",
    "# fit the regression model\n",
    "reg = sm.OLS(y, X).fit()\n",
    "reg.summary()"
   ]
  },
  {
   "cell_type": "code",
   "execution_count": 3,
   "id": "owned-isaac",
   "metadata": {},
   "outputs": [
    {
     "data": {
      "text/plain": [
       "0.14104492528008516"
      ]
     },
     "execution_count": 3,
     "metadata": {},
     "output_type": "execute_result"
    }
   ],
   "source": [
    "# get Root Mean Square Error (RMSE)\n",
    "rmse(y, reg.predict(X))"
   ]
  },
  {
   "cell_type": "code",
   "execution_count": 4,
   "id": "automatic-mother",
   "metadata": {},
   "outputs": [
    {
     "data": {
      "text/plain": [
       "0.01989367094726481"
      ]
     },
     "execution_count": 4,
     "metadata": {},
     "output_type": "execute_result"
    }
   ],
   "source": [
    "# Mean squared error (MSE)\n",
    "np.mean(reg.resid**2)"
   ]
  },
  {
   "cell_type": "code",
   "execution_count": 5,
   "id": "afraid-douglas",
   "metadata": {},
   "outputs": [
    {
     "data": {
      "text/plain": [
       "0.12269744365850276"
      ]
     },
     "execution_count": 5,
     "metadata": {},
     "output_type": "execute_result"
    }
   ],
   "source": [
    "# Mean absolute error (MAE)\n",
    "np.mean(np.abs(y-reg.predict(X)))"
   ]
  },
  {
   "cell_type": "code",
   "execution_count": 6,
   "id": "further-exemption",
   "metadata": {},
   "outputs": [
    {
     "data": {
      "text/html": [
       "<div>\n",
       "<style scoped>\n",
       "    .dataframe tbody tr th:only-of-type {\n",
       "        vertical-align: middle;\n",
       "    }\n",
       "\n",
       "    .dataframe tbody tr th {\n",
       "        vertical-align: top;\n",
       "    }\n",
       "\n",
       "    .dataframe thead th {\n",
       "        text-align: right;\n",
       "    }\n",
       "</style>\n",
       "<table border=\"1\" class=\"dataframe\">\n",
       "  <thead>\n",
       "    <tr style=\"text-align: right;\">\n",
       "      <th></th>\n",
       "      <th>variables</th>\n",
       "      <th>VIF</th>\n",
       "    </tr>\n",
       "  </thead>\n",
       "  <tbody>\n",
       "    <tr>\n",
       "      <th>0</th>\n",
       "      <td>area</td>\n",
       "      <td>1.035192</td>\n",
       "    </tr>\n",
       "    <tr>\n",
       "      <th>1</th>\n",
       "      <td>latitude</td>\n",
       "      <td>1.023562</td>\n",
       "    </tr>\n",
       "    <tr>\n",
       "      <th>2</th>\n",
       "      <td>dist_mainland</td>\n",
       "      <td>1.026738</td>\n",
       "    </tr>\n",
       "  </tbody>\n",
       "</table>\n",
       "</div>"
      ],
      "text/plain": [
       "       variables       VIF\n",
       "0           area  1.035192\n",
       "1       latitude  1.023562\n",
       "2  dist_mainland  1.026738"
      ]
     },
     "execution_count": 6,
     "metadata": {},
     "output_type": "execute_result"
    }
   ],
   "source": [
    "# Variance Inflation Factor (VIF) \n",
    "pd.DataFrame({'variables':X.columns[1:], 'VIF':[variance_inflation_factor(X.values, i+1) for i in range(len(X.columns[1:]))]})\n"
   ]
  },
  {
   "cell_type": "code",
   "execution_count": 7,
   "id": "boring-basic",
   "metadata": {},
   "outputs": [
    {
     "data": {
      "text/html": [
       "<div>\n",
       "<style scoped>\n",
       "    .dataframe tbody tr th:only-of-type {\n",
       "        vertical-align: middle;\n",
       "    }\n",
       "\n",
       "    .dataframe tbody tr th {\n",
       "        vertical-align: top;\n",
       "    }\n",
       "\n",
       "    .dataframe thead th {\n",
       "        text-align: right;\n",
       "    }\n",
       "</style>\n",
       "<table border=\"1\" class=\"dataframe\">\n",
       "  <thead>\n",
       "    <tr style=\"text-align: right;\">\n",
       "      <th></th>\n",
       "      <th>ntv_rich</th>\n",
       "      <th>area</th>\n",
       "      <th>latitude</th>\n",
       "      <th>dist_mainland</th>\n",
       "      <th>yhat</th>\n",
       "      <th>res</th>\n",
       "      <th>std_res</th>\n",
       "    </tr>\n",
       "  </thead>\n",
       "  <tbody>\n",
       "    <tr>\n",
       "      <th>0</th>\n",
       "      <td>1.897627</td>\n",
       "      <td>1.602060</td>\n",
       "      <td>42.99</td>\n",
       "      <td>10.0</td>\n",
       "      <td>1.906057</td>\n",
       "      <td>-0.00843</td>\n",
       "      <td>-0.056140</td>\n",
       "    </tr>\n",
       "    <tr>\n",
       "      <th>1</th>\n",
       "      <td>1.633468</td>\n",
       "      <td>0.477121</td>\n",
       "      <td>41.25</td>\n",
       "      <td>0.3</td>\n",
       "      <td>1.708459</td>\n",
       "      <td>-0.07499</td>\n",
       "      <td>-0.555013</td>\n",
       "    </tr>\n",
       "  </tbody>\n",
       "</table>\n",
       "</div>"
      ],
      "text/plain": [
       "   ntv_rich      area  latitude  dist_mainland      yhat      res   std_res\n",
       "0  1.897627  1.602060     42.99           10.0  1.906057 -0.00843 -0.056140\n",
       "1  1.633468  0.477121     41.25            0.3  1.708459 -0.07499 -0.555013"
      ]
     },
     "execution_count": 7,
     "metadata": {},
     "output_type": "execute_result"
    }
   ],
   "source": [
    "# Check Multiple Linear Regression (MLR) Assumptions\n",
    "# get residuals and standardized residuals\n",
    "from bioinfokit.visuz import stat\n",
    "df[['yhat']]=pd.DataFrame(reg.predict(X)) \n",
    "df['res']=pd.DataFrame(reg.resid)\n",
    "df['std_res']=reg.get_influence().resid_studentized_internal\n",
    "df.head(2)"
   ]
  },
  {
   "cell_type": "code",
   "execution_count": 8,
   "id": "geological-mortality",
   "metadata": {},
   "outputs": [
    {
     "data": {
      "image/png": "[encoded data removed]",
      "text/plain": [
       "<Figure size 432x288 with 1 Axes>"
      ]
     },
     "metadata": {
      "needs_background": "light"
     },
     "output_type": "display_data"
    },
    {
     "data": {
      "image/png": "[encoded data removed]",
      "text/plain": [
       "<Figure size 432x288 with 1 Axes>"
      ]
     },
     "metadata": {
      "needs_background": "light"
     },
     "output_type": "display_data"
    }
   ],
   "source": [
    "# create fitted (y_hat) vs residuals plot\n",
    "stat.reg_resid_plot(df=df, yhat='yhat', resid='res', stdresid='std_res', show=True)"
   ]
  },
  {
   "cell_type": "code",
   "execution_count": 9,
   "id": "asian-strike",
   "metadata": {},
   "outputs": [
    {
     "data": {
      "image/png": "[encoded data removed]",
      "text/plain": [
       "<Figure size 432x288 with 1 Axes>"
      ]
     },
     "metadata": {
      "needs_background": "light"
     },
     "output_type": "display_data"
    }
   ],
   "source": [
    "import statsmodels.api as sm\n",
    "import matplotlib.pyplot as plt\n",
    "\n",
    "# line=45 option to plot the data around 45 degree line\n",
    "sm.qqplot(df['std_res'], line='45')\n",
    "plt.xlabel(\"Theoretical Quantiles\")\n",
    "plt.ylabel(\"Standardized Residuals\")\n",
    "plt.show()"
   ]
  },
  {
   "cell_type": "code",
   "execution_count": null,
   "id": "indie-score",
   "metadata": {},
   "outputs": [],
   "source": []
  }
 ],
 "metadata": {
  "kernelspec": {
   "display_name": "Python 3",
   "language": "python",
   "name": "python3"
  },
  "language_info": {
   "codemirror_mode": {
    "name": "ipython",
    "version": 3
   },
   "file_extension": ".py",
   "mimetype": "text/x-python",
   "name": "python",
   "nbconvert_exporter": "python",
   "pygments_lexer": "ipython3",
   "version": "3.8.2"
  }
 },
 "nbformat": 4,
 "nbformat_minor": 5
}
